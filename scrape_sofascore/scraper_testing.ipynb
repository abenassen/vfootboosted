{
 "cells": [
  {
   "cell_type": "code",
   "execution_count": 1,
   "id": "5122d6ce",
   "metadata": {},
   "outputs": [],
   "source": [
    "from selenium import webdriver\n",
    "from selenium.webdriver.chrome.service import Service\n",
    "from selenium.webdriver.common.by import By\n",
    "from selenium.webdriver.support.ui import WebDriverWait\n",
    "from selenium.webdriver.support import expected_conditions as EC\n",
    "from webdriver_manager.chrome import ChromeDriverManager\n",
    "from bs4 import BeautifulSoup\n",
    "import time"
   ]
  },
  {
   "cell_type": "code",
   "execution_count": 2,
   "id": "68eced3a",
   "metadata": {},
   "outputs": [],
   "source": [
    "import json"
   ]
  },
  {
   "cell_type": "code",
   "execution_count": 3,
   "id": "d6c5dd6e",
   "metadata": {},
   "outputs": [],
   "source": [
    "# Setup Chrome driver\n",
    "options = webdriver.ChromeOptions()"
   ]
  },
  {
   "cell_type": "code",
   "execution_count": 4,
   "id": "d42208da",
   "metadata": {},
   "outputs": [],
   "source": [
    "options.set_capability('goog:loggingPrefs', {\"performance\": \"ALL\", \"browser\":\"ALL\"})"
   ]
  },
  {
   "cell_type": "code",
   "execution_count": 5,
   "id": "041de376",
   "metadata": {},
   "outputs": [],
   "source": [
    "#options.add_argument('--headless')  # run in headless mode (without GUI)\n",
    "options.add_argument('--window-size=1920,1080')\n",
    "driver = webdriver.Chrome(service=Service(ChromeDriverManager().install()), options=options)\n",
    "\n",
    "#url = \"https://www.sofascore.com/it/football/match/como-venezia/Ndbseeb#id:12501598\"\n",
    "url = \"https://www.sofascore.com/it/football/match/genoa-udinese/Vdbsneb#id:12501560\"\n",
    "driver.get(url)"
   ]
  },
  {
   "cell_type": "code",
   "execution_count": 6,
   "id": "060184ad",
   "metadata": {},
   "outputs": [
    {
     "name": "stdout",
     "output_type": "stream",
     "text": [
      "Cookie consent closed.\n"
     ]
    }
   ],
   "source": [
    "# Consent button for cookies\n",
    "# Wait explicitly until the button is clickable, then click it\n",
    "try:\n",
    "    # Contains-text version (more robust):\n",
    "    consent_button = WebDriverWait(driver, 15).until(\n",
    "        EC.element_to_be_clickable((\n",
    "            By.XPATH, '//button[.//p[text()=\"Consent\"]]'\n",
    "        ))\n",
    "    )\n",
    "    consent_button.click()\n",
    "    print(\"Cookie consent closed.\")\n",
    "except Exception as e:\n",
    "    print(\"Cookie consent popup not found or already closed.\", e)"
   ]
  },
  {
   "cell_type": "code",
   "execution_count": 7,
   "id": "aa76af4d",
   "metadata": {},
   "outputs": [],
   "source": [
    "# Sometimes you need to scroll to load dynamic content\n",
    "driver.execute_script(\"window.scrollTo(0, document.body.scrollHeight);\")\n",
    "time.sleep(3)  # Wait a bit more if necessary"
   ]
  },
  {
   "cell_type": "code",
   "execution_count": 69,
   "id": "ed740afa",
   "metadata": {},
   "outputs": [],
   "source": [
    "logs_raw = driver.get_log(\"performance\")\n",
    "logs = [json.loads(lr['message'])['message'] for lr in logs_raw]"
   ]
  },
  {
   "cell_type": "code",
   "execution_count": 70,
   "id": "8b5e4408",
   "metadata": {},
   "outputs": [
    {
     "name": "stdout",
     "output_type": "stream",
     "text": [
      "/api/v1/event/12501560/shotmap\n"
     ]
    }
   ],
   "source": [
    "for x in logs:\n",
    "    if 'shotmap' in x['params'].get('headers', {}).get(':path', ''):\n",
    "        print(x['params'].get('headers', {}).get(':path', ''))\n",
    "        break"
   ]
  },
  {
   "cell_type": "code",
   "execution_count": 71,
   "id": "952bac7f",
   "metadata": {},
   "outputs": [
    {
     "data": {
      "text/plain": [
       "'91886.4230'"
      ]
     },
     "execution_count": 71,
     "metadata": {},
     "output_type": "execute_result"
    }
   ],
   "source": [
    "x['params']['requestId']"
   ]
  },
  {
   "cell_type": "code",
   "execution_count": 72,
   "id": "09b2f43b",
   "metadata": {},
   "outputs": [],
   "source": [
    "    \n",
    "shotmap = json.loads(driver.execute_cdp_cmd('Network.getResponseBody', {'requestId': x['params']['requestId']})['body'])"
   ]
  },
  {
   "cell_type": "code",
   "execution_count": 73,
   "id": "bf1291c2",
   "metadata": {},
   "outputs": [
    {
     "name": "stdout",
     "output_type": "stream",
     "text": [
      "/api/v1/event/12501560/lineups\n"
     ]
    }
   ],
   "source": [
    "for x in logs:\n",
    "    if 'lineups' in x['params'].get('headers', {}).get(':path', ''):\n",
    "        print(x['params'].get('headers', {}).get(':path', ''))\n",
    "        break"
   ]
  },
  {
   "cell_type": "code",
   "execution_count": 74,
   "id": "bede407a",
   "metadata": {},
   "outputs": [
    {
     "name": "stdout",
     "output_type": "stream",
     "text": [
      "/api/v1/event/12501560/lineups\n"
     ]
    }
   ],
   "source": [
    "print(x['params'].get('headers', {}).get(':path', ''))"
   ]
  },
  {
   "cell_type": "code",
   "execution_count": 75,
   "id": "30fb2cfe",
   "metadata": {},
   "outputs": [
    {
     "data": {
      "text/plain": [
       "'91886.4277'"
      ]
     },
     "execution_count": 75,
     "metadata": {},
     "output_type": "execute_result"
    }
   ],
   "source": [
    "x['params']['requestId']"
   ]
  },
  {
   "cell_type": "code",
   "execution_count": 77,
   "id": "25084ba4",
   "metadata": {},
   "outputs": [],
   "source": [
    "lineups = json.loads(driver.execute_cdp_cmd('Network.getResponseBody', {'requestId': x['params']['requestId']})['body'])"
   ]
  },
  {
   "cell_type": "code",
   "execution_count": 79,
   "id": "f01048f5",
   "metadata": {},
   "outputs": [],
   "source": [
    "hometeam = lineups['home']['players']"
   ]
  },
  {
   "cell_type": "code",
   "execution_count": 115,
   "id": "508ec05d",
   "metadata": {},
   "outputs": [],
   "source": [
    "hometeamnames = [p for p in hometeam if len(p['statistics'])>0]"
   ]
  },
  {
   "cell_type": "code",
   "execution_count": 117,
   "id": "830f70c8",
   "metadata": {},
   "outputs": [
    {
     "data": {
      "text/plain": [
       "16"
      ]
     },
     "execution_count": 117,
     "metadata": {},
     "output_type": "execute_result"
    }
   ],
   "source": [
    "len(hometeamnames)"
   ]
  },
  {
   "cell_type": "code",
   "execution_count": 118,
   "id": "d86f3dfb",
   "metadata": {},
   "outputs": [],
   "source": [
    "pl = hometeamnames[1]"
   ]
  },
  {
   "cell_type": "code",
   "execution_count": 122,
   "id": "93277a9f",
   "metadata": {},
   "outputs": [],
   "source": [
    "player_name = pl['player']['name']"
   ]
  },
  {
   "cell_type": "code",
   "execution_count": 124,
   "id": "ac2a2558",
   "metadata": {},
   "outputs": [],
   "source": [
    "def click_player_by_name(driver, player_name, timeout=10):\n",
    "    \"\"\"\n",
    "    Clicks the player element containing the given name using JavaScript.\n",
    "    \n",
    "    Parameters:\n",
    "        driver: Selenium WebDriver instance.\n",
    "        player_name (str): Name of the player to click.\n",
    "        timeout (int): Maximum time to wait for the element (in seconds).\n",
    "    \"\"\"\n",
    "    try:\n",
    "        # XPath to find clickable ancestor of the span with player name\n",
    "        xpath = f'''\n",
    "        //span[@data-testid=\"lineups_name\" and normalize-space(text())=\"{player_name}\"]\n",
    "        /ancestor::*[\n",
    "            self::button or self::a or @onclick or @role=\"button\"\n",
    "        ][1]\n",
    "        '''\n",
    "\n",
    "        # Wait until the element is present in the DOM\n",
    "        clickable_element = WebDriverWait(driver, timeout).until(\n",
    "            EC.presence_of_element_located((By.XPATH, xpath))\n",
    "        )\n",
    "\n",
    "        # Scroll to the element and click using JavaScript\n",
    "        driver.execute_script(\"arguments[0].scrollIntoView({block: 'center', inline: 'center'});\", clickable_element)\n",
    "        driver.execute_script(\"arguments[0].click();\", clickable_element)\n",
    "\n",
    "        print(f\"✅ Clicked player: {player_name}\")\n",
    "    except Exception as e:\n",
    "        print(f\"❌ Failed to click player '{player_name}': {e}\")"
   ]
  },
  {
   "cell_type": "code",
   "execution_count": 130,
   "id": "320aaa27",
   "metadata": {},
   "outputs": [],
   "source": [
    "clickable_element = WebDriverWait(driver, 15).until(\n",
    "    EC.presence_of_element_located((\n",
    "        By.XPATH, '''\n",
    "        //span[@data-testid=\"lineups_name\" and text()=\"Caleb Ekuban\"]\n",
    "        /ancestor::*[\n",
    "            self::button or self::a or @onclick or @role=\"button\"\n",
    "        ][1]\n",
    "        '''\n",
    "    ))\n",
    ")"
   ]
  },
  {
   "cell_type": "code",
   "execution_count": 133,
   "id": "8f6b93c6",
   "metadata": {},
   "outputs": [
    {
     "name": "stdout",
     "output_type": "stream",
     "text": [
      "✅ Clicked player: Caleb Ekuban\n"
     ]
    }
   ],
   "source": [
    "click_player_by_name(driver, \"Caleb Ekuban\", timeout=10)"
   ]
  },
  {
   "cell_type": "code",
   "execution_count": 131,
   "id": "77f02ebd",
   "metadata": {},
   "outputs": [],
   "source": [
    "driver.execute_script(\"arguments[0].click();\", clickable_element)"
   ]
  },
  {
   "cell_type": "code",
   "execution_count": 49,
   "id": "db82ce1e",
   "metadata": {},
   "outputs": [],
   "source": [
    "logs_raw = driver.get_log(\"performance\")\n",
    "logs = [json.loads(lr['message'])['message'] for lr in logs_raw]"
   ]
  },
  {
   "cell_type": "code",
   "execution_count": 50,
   "id": "2899753c",
   "metadata": {},
   "outputs": [
    {
     "name": "stdout",
     "output_type": "stream",
     "text": [
      "/api/v1/event/12501560/player/978301/heatmap\n"
     ]
    }
   ],
   "source": [
    "x = None\n",
    "for x in logs:\n",
    "    #print(x['params'].get('headers', {}).get(':path', ''))\n",
    "    if 'heatmap' in x['params'].get('headers', {}).get(':path', ''):\n",
    "        print(x['params'].get('headers', {}).get(':path', ''))\n",
    "        break\n",
    "    else:\n",
    "        x = None\n",
    "if x is None: \n",
    "    print(\"not found\")"
   ]
  },
  {
   "cell_type": "code",
   "execution_count": 51,
   "id": "9be10019",
   "metadata": {},
   "outputs": [],
   "source": [
    "heatmapx = [x for x in logs if 'heatmap' in x['params'].get('headers', {}).get(':path', '')]"
   ]
  },
  {
   "cell_type": "code",
   "execution_count": 55,
   "id": "99aac245",
   "metadata": {},
   "outputs": [
    {
     "name": "stdout",
     "output_type": "stream",
     "text": [
      "/api/v1/event/12501560/player/978301/heatmap\n",
      "/api/v1/event/12501560/player/978301/heatmap\n"
     ]
    }
   ],
   "source": [
    "for x in heatmapx:\n",
    "    print(x['params'].get('headers', {}).get(':path', ''))"
   ]
  },
  {
   "cell_type": "code",
   "execution_count": 56,
   "id": "4e146d8c",
   "metadata": {},
   "outputs": [],
   "source": [
    " heatmap_request_id = x[\"params\"][\"requestId\"]"
   ]
  },
  {
   "cell_type": "code",
   "execution_count": 57,
   "id": "4a26b507",
   "metadata": {},
   "outputs": [],
   "source": [
    "heatmapdata = json.loads(driver.execute_cdp_cmd('Network.getResponseBody', {'requestId': heatmap_request_id})['body'])"
   ]
  },
  {
   "cell_type": "code",
   "execution_count": 58,
   "id": "18f8ad2c",
   "metadata": {},
   "outputs": [
    {
     "data": {
      "text/plain": [
       "{'heatmap': [{'x': 32, 'y': 53},\n",
       "  {'x': 25, 'y': 56},\n",
       "  {'x': 32, 'y': 38},\n",
       "  {'x': 42, 'y': 52},\n",
       "  {'x': 42, 'y': 52},\n",
       "  {'x': 77, 'y': 14},\n",
       "  {'x': 77, 'y': 25},\n",
       "  {'x': 55, 'y': 6},\n",
       "  {'x': 54, 'y': 5},\n",
       "  {'x': 44, 'y': 11},\n",
       "  {'x': 40, 'y': 86},\n",
       "  {'x': 46, 'y': 43},\n",
       "  {'x': 69, 'y': 38},\n",
       "  {'x': 59, 'y': 12},\n",
       "  {'x': 46, 'y': 93},\n",
       "  {'x': 47, 'y': 26},\n",
       "  {'x': 51, 'y': 64},\n",
       "  {'x': 53, 'y': 8},\n",
       "  {'x': 24, 'y': 25},\n",
       "  {'x': 22, 'y': 24}]}"
      ]
     },
     "execution_count": 58,
     "metadata": {},
     "output_type": "execute_result"
    }
   ],
   "source": [
    "heatmapdata"
   ]
  },
  {
   "cell_type": "code",
   "execution_count": 59,
   "id": "b8b33da1",
   "metadata": {},
   "outputs": [],
   "source": [
    "from scipy.stats import gaussian_kde\n",
    "import numpy as np"
   ]
  },
  {
   "cell_type": "code",
   "execution_count": 61,
   "id": "fbb42bd3",
   "metadata": {},
   "outputs": [],
   "source": [
    "datapoints = heatmapdata['heatmap']"
   ]
  },
  {
   "cell_type": "code",
   "execution_count": 62,
   "id": "381e85f2",
   "metadata": {},
   "outputs": [],
   "source": [
    "xy = np.array([(d['x'], d['y']) for d in datapoints]).T"
   ]
  },
  {
   "cell_type": "code",
   "execution_count": 63,
   "id": "6af8211e",
   "metadata": {},
   "outputs": [],
   "source": [
    "density = gaussian_kde(xy)(xy)"
   ]
  },
  {
   "cell_type": "code",
   "execution_count": 64,
   "id": "2b28fc61",
   "metadata": {},
   "outputs": [],
   "source": [
    "x = xy[0]; y = xy[1]"
   ]
  },
  {
   "cell_type": "code",
   "execution_count": 65,
   "id": "ce3c7cc1",
   "metadata": {},
   "outputs": [],
   "source": [
    "idx = density.argsort()\n",
    "x, y, density = x[idx], y[idx], density[idx]"
   ]
  },
  {
   "cell_type": "code",
   "execution_count": 66,
   "id": "47d90969",
   "metadata": {},
   "outputs": [],
   "source": [
    "import matplotlib.pyplot as plt"
   ]
  },
  {
   "cell_type": "code",
   "execution_count": 67,
   "id": "7bdd28de",
   "metadata": {},
   "outputs": [
    {
     "data": {
      "image/png": "[encoded data removed]",
      "text/plain": [
       "<Figure size 800x600 with 2 Axes>"
      ]
     },
     "metadata": {},
     "output_type": "display_data"
    }
   ],
   "source": [
    "\n",
    "fig, ax = plt.subplots(figsize=(8, 6))\n",
    "sc = ax.scatter(x, y, c=density, s=50, cmap='inferno')\n",
    "plt.colorbar(sc, label='Density')\n",
    "\n",
    "ax.set_title(\"Player Heatmap (KDE)\")\n",
    "ax.set_xlabel(\"X-coordinate\")\n",
    "ax.set_ylabel(\"Y-coordinate\")\n",
    "ax.set_aspect('equal')\n",
    "\n",
    "plt.show()"
   ]
  },
  {
   "cell_type": "code",
   "execution_count": null,
   "id": "e2095efc",
   "metadata": {},
   "outputs": [],
   "source": []
  }
 ],
 "metadata": {
  "kernelspec": {
   "display_name": "venv",
   "language": "python",
   "name": "venv"
  },
  "language_info": {
   "codemirror_mode": {
    "name": "ipython",
    "version": 3
   },
   "file_extension": ".py",
   "mimetype": "text/x-python",
   "name": "python",
   "nbconvert_exporter": "python",
   "pygments_lexer": "ipython3",
   "version": "3.10.12"
  }
 },
 "nbformat": 4,
 "nbformat_minor": 5
}
